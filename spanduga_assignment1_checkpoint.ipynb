{
  "nbformat": 4,
  "nbformat_minor": 0,
  "metadata": {
    "colab": {
      "provenance": []
    },
    "kernelspec": {
      "name": "python3",
      "display_name": "Python 3"
    },
    "language_info": {
      "name": "python"
    }
  },
  "cells": [
    {
      "cell_type": "code",
      "execution_count": 1,
      "metadata": {
        "id": "BMkGMy-BmJ-d"
      },
      "outputs": [],
      "source": [
        "import gym \n",
        "import matplotlib.pyplot as plt\n",
        "from gym import spaces\n",
        "import numpy as np\n",
        "import random\n",
        "\n",
        "from google.colab import widgets\n",
        "import time"
      ]
    },
    {
      "cell_type": "markdown",
      "source": [
        "\n",
        "\n",
        "---\n",
        "\n",
        "**<h2>♟ *Deterministic Environment*</h2>**\n",
        "\n",
        "---\n",
        "\n",
        "\n",
        "\n"
      ],
      "metadata": {
        "id": "jYUxOt46z_w_"
      }
    },
    {
      "cell_type": "code",
      "source": [
        "class GridEnvironmentDeterministic(gym.Env):\n",
        "    metadata = { 'render.modes': [] }\n",
        "    \n",
        "    def __init__(self):\n",
        "        self.observation_space = spaces.Discrete(16)\n",
        "        self.action_space = spaces.Discrete(4)\n",
        "\n",
        "        # positions\n",
        "        self.up = 0\n",
        "        self.down = 1\n",
        "        self.right = 2\n",
        "        self.left = 3\n",
        "\n",
        "        # initial positions\n",
        "        self.state = np.zeros((4,4))\n",
        "        self.agent_pos=[0,0]\n",
        "        self.goal_pos=[3,3]\n",
        "\n",
        "        # reward positions\n",
        "        self.rewards = {\n",
        "            (2,0): -3,\n",
        "            (1,2):-4,\n",
        "            (1,0):2,\n",
        "            (3,1):5,\n",
        "            (3,3):20\n",
        "        }\n",
        "        self.done = False\n",
        "        self.max_timesteps = 10\n",
        "\n",
        "    def reset(self):\n",
        "        \n",
        "        self.done = False\n",
        "        self.state = np.zeros((4,4))\n",
        "        self.agent_pos = [0, 0]\n",
        "        self.goal_pos = [3, 3]       \n",
        "        \n",
        "        self.state[tuple(self.agent_pos)] = 10\n",
        "\n",
        "        observation = self.state.flatten()\n",
        "        return observation\n",
        "    \n",
        "    def step(self, action):\n",
        "\n",
        "        self.state = np.random.choice(self.observation_space.n)\n",
        "        if action == self.up:\n",
        "          self.agent_pos[0] -= 1\n",
        "        if action == self.down:\n",
        "          self.agent_pos[0] += 1\n",
        "        if action == self.right:\n",
        "          self.agent_pos[1] += 1\n",
        "        if action == self.left:\n",
        "          self.agent_pos[1] -= 1\n",
        "          \n",
        "        self.agent_pos = np.clip(self.agent_pos, 0, 3)\n",
        "        self.state = np.zeros((4,4))\n",
        "\n",
        "        self.state[tuple(self.agent_pos)] = 10\n",
        "        observation = self.state.flatten()\n",
        "        \n",
        "        reward = 0\n",
        "\n",
        "        agent_pos_tuple = tuple(self.agent_pos)\n",
        "\n",
        "        if (agent_pos_tuple in self.rewards):\n",
        "          if(self.agent_pos == self.goal_pos).all():\n",
        "            self.done = True\n",
        "          reward = self.rewards[agent_pos_tuple]\n",
        "        \n",
        "        if(self.max_timesteps==1):\n",
        "          self.done = True\n",
        "        else:\n",
        "          self.max_timesteps = self.max_timesteps - 1\n",
        "        \n",
        "        return self.agent_pos, reward, self.done, self.state\n",
        "        \n",
        "    def render(self):\n",
        "        fig1, (ax1)= plt.subplots(1)\n",
        "        for x,y in self.rewards.items():\n",
        "          ax1.text(*x[::-1],s=y,ha='center',va='center',size='xx-large',color='black',backgroundcolor='white')\n",
        "        plt.imshow(self.state)\n",
        "        plt.show()\n",
        "        \n"
      ],
      "metadata": {
        "id": "iPUiPsRDmZQN"
      },
      "execution_count": 2,
      "outputs": []
    },
    {
      "cell_type": "code",
      "source": [
        "class RandomAgent:\n",
        "  def __init__(self, env):\n",
        "    self.env = env\n",
        "    self.observation_space = env.observation_space\n",
        "    self.action_space = env.action_space\n",
        "\n",
        "  def step(self, observation):\n",
        "    return np.random.choice(self.action_space.n)\n"
      ],
      "metadata": {
        "id": "IFOwKDdQmhp9"
      },
      "execution_count": 3,
      "outputs": []
    },
    {
      "cell_type": "markdown",
      "source": [
        "\n",
        "\n",
        "---\n",
        "\n",
        "**<h2>⛹ *Stochastic Environment*</h2>**\n",
        "\n",
        "---\n",
        "\n",
        "\n",
        "\n"
      ],
      "metadata": {
        "id": "D3j_7fXSLZK6"
      }
    },
    {
      "cell_type": "code",
      "source": [
        "class GridEnvironmentStochastic(gym.Env):\n",
        "    metadata = { 'render.modes': [] }\n",
        "    \n",
        "    def __init__(self):\n",
        "        self.observation_space = spaces.Discrete(16)\n",
        "        self.action_space = spaces.Discrete(4)\n",
        "\n",
        "        # positions\n",
        "        self.up = 0\n",
        "        self.down = 1\n",
        "        self.right = 2\n",
        "        self.left = 3\n",
        "\n",
        "        # initial positions\n",
        "        self.state = np.zeros((4,4))\n",
        "        self.agent_pos=[0,0]\n",
        "        self.goal_pos=[3,3]\n",
        "\n",
        "        # reward positions\n",
        "        # given in the format grid position, reward value\n",
        "        self.rewards = {\n",
        "            (2,0): -3,\n",
        "            (1,2):-4,\n",
        "            (1,0):2,\n",
        "            (3,1):5,\n",
        "            (3,3):20\n",
        "        }\n",
        "        self.done = False\n",
        "        self.max_timesteps = 10\n",
        "\n",
        "    def reset(self):\n",
        "        \n",
        "        self.done = False\n",
        "        self.state = np.zeros((4,4))\n",
        "        self.agent_pos = [0, 0]\n",
        "        self.goal_pos = [3, 3]       \n",
        "        \n",
        "        self.state[tuple(self.agent_pos)] = 10\n",
        "\n",
        "        observation = self.state.flatten()\n",
        "\n",
        "        self.max_timesteps = 10\n",
        "\n",
        "        return observation\n",
        "    \n",
        "    def step(self, action):\n",
        "        random_action = False\n",
        "\n",
        "        # stochastic action selection at a probability of 0.6 for the given action and 0.4 for random action,\n",
        "        # 60% of the time the given action is executed and 40% of the time a random action is executed \n",
        "        choose_action = [action,np.random.choice(self.action_space.n)]\n",
        "        stoc_action = random.choices(choose_action, weights=(60, 40))\n",
        "        if action != stoc_action[0]:\n",
        "          random_action = True\n",
        "        action = stoc_action[0]\n",
        "\n",
        "        # print(\"action_step:\",stoc_action)\n",
        "\n",
        "        if action == self.up:\n",
        "          self.agent_pos[0] -= 1\n",
        "        if action == self.down:\n",
        "          self.agent_pos[0] += 1\n",
        "        if action == self.right:\n",
        "          self.agent_pos[1] += 1\n",
        "        if action == self.left:\n",
        "          self.agent_pos[1] -= 1\n",
        "          \n",
        "        self.agent_pos = np.clip(self.agent_pos, 0, 3)\n",
        "        self.state = np.zeros((4,4))\n",
        "\n",
        "        self.state[tuple(self.agent_pos)] = 10\n",
        "        observation = self.state.flatten()\n",
        "        \n",
        "        reward = 0\n",
        "\n",
        "        agent_pos_tuple = tuple(self.agent_pos)\n",
        "\n",
        "        if (agent_pos_tuple in self.rewards):\n",
        "          if(self.agent_pos == self.goal_pos).all():\n",
        "            self.done = True\n",
        "          reward = self.rewards[agent_pos_tuple]\n",
        "\n",
        "        if(self.max_timesteps==1):\n",
        "          self.done = True\n",
        "        else:\n",
        "          self.max_timesteps = self.max_timesteps - 1\n",
        "        \n",
        "        return self.agent_pos, reward, self.done, self.state, random_action\n",
        "        \n",
        "    def render(self):\n",
        "        fig1, (ax1)= plt.subplots(1)\n",
        "        for x,y in self.rewards.items():\n",
        "          ax1.text(*x[::-1],s=y,ha='center',va='center',size='xx-large',color='black',backgroundcolor='white')\n",
        "        plt.imshow(self.state)\n",
        "        plt.show()\n",
        "        \n"
      ],
      "metadata": {
        "id": "xqc3uNGgLYjl"
      },
      "execution_count": 4,
      "outputs": []
    },
    {
      "cell_type": "code",
      "source": [
        "def main():\n",
        "  print(\"\\n\\n Visualizing deterministic environment with random actions for 10 timesteps \\n\\n\")\n",
        "  env = GridEnvironmentDeterministic()\n",
        "  obs = env.reset()\n",
        "  agent = RandomAgent(env)\n",
        "\n",
        "  # initial action \n",
        "  # obs, reward, done ,state = env.step(action)\n",
        "  env.render()\n",
        "\n",
        "  output_grid = widgets.Grid(2, 2)\n",
        "\n",
        "  action_map = {\n",
        "      0:'up',\n",
        "      1:'down',\n",
        "      2:'right',\n",
        "      3:'left'\n",
        "  }\n",
        "\n",
        "  done = False\n",
        "\n",
        "  while not done:\n",
        "    action = agent.step(obs)\n",
        "    obs, reward, done ,state= env.step(action)\n",
        "    with output_grid.output_to(0, 0):\n",
        "      print('observation:',obs)\n",
        "      print('reward:',reward)\n",
        "      print('action:', action_map[action])\n",
        "      print('action',action)\n",
        "    \n",
        "      env.render()\n",
        "      print('-----------------')\n",
        "    time.sleep(1)\n",
        "\n",
        "  print(\"\\n\\n\\n Visualizing stochastic environment with random actions for 10 timesteps\\n\\n\")\n",
        "  env = GridEnvironmentStochastic()\n",
        "  obs = env.reset()\n",
        "  agent = RandomAgent(env)\n",
        "\n",
        "  # initial action \n",
        "  # obs, reward, done ,state = env.step(action)\n",
        "  env.render()\n",
        "\n",
        "  output_grid = widgets.Grid(2, 2)\n",
        "\n",
        "  action_map = {\n",
        "      0:'up',\n",
        "      1:'down',\n",
        "      2:'right',\n",
        "      3:'left'\n",
        "  }\n",
        "\n",
        "  done = False\n",
        "\n",
        "  while not done:\n",
        "    action = agent.step(obs)\n",
        "    obs, reward, done ,state,random_action= env.step(action)\n",
        "    with output_grid.output_to(0, 0):\n",
        "      print('observation:',obs)\n",
        "      print('reward:',reward)\n",
        "      print('action:', action_map[action])\n",
        "      print('action',action)\n",
        "      print('random_action',random_action)\n",
        "      env.render()\n",
        "      print('-----------------')\n",
        "    time.sleep(1)"
      ],
      "metadata": {
        "id": "6iLVW21nr7ne"
      },
      "execution_count": 5,
      "outputs": []
    },
    {
      "cell_type": "code",
      "source": [
        "main()"
      ],
      "metadata": {
        "colab": {
          "base_uri": "https://localhost:8080/",
          "height": 1000
        },
        "id": "zd-neTte8j3e",
        "outputId": "a035abf6-af6d-42eb-c170-1bdf76d6d07d"
      },
      "execution_count": 6,
      "outputs": [
        {
          "output_type": "stream",
          "name": "stdout",
          "text": [
            "\n",
            "\n",
            " Visualizing deterministic environment with random actions for 10 timesteps \n",
            "\n",
            "\n"
          ]
        },
        {
          "output_type": "display_data",
          "data": {
            "text/plain": [
              "<Figure size 432x288 with 1 Axes>"
            ],
            "image/png": "[encoded data removed]"
          },
          "metadata": {
            "needs_background": "light"
          }
        },
        {
          "output_type": "display_data",
          "data": {
            "text/plain": [
              "<IPython.core.display.HTML object>"
            ],
            "text/html": [
              "<style>\n",
              "       table#id2, #id2 > tbody > tr > th, #id2 > tbody > tr > td {\n",
              "         border: 1px solid lightgray;\n",
              "         border-collapse:collapse;\n",
              "         \n",
              "        }</style>"
            ]
          },
          "metadata": {}
        },
        {
          "output_type": "display_data",
          "data": {
            "text/plain": [
              "<IPython.core.display.HTML object>"
            ],
            "text/html": [
              "<table id=id2><tr><td id=id2-0-0></td><td id=id2-0-1></td></tr><tr><td id=id2-1-0></td><td id=id2-1-1></td></tr></table>"
            ]
          },
          "metadata": {}
        },
        {
          "output_type": "display_data",
          "data": {
            "text/plain": [
              "<IPython.core.display.Javascript object>"
            ],
            "application/javascript": [
              "window[\"3deb445e-41bd-11ed-b421-0242ac1c0002\"] = google.colab.output.getActiveOutputArea();\n",
              "//# sourceURL=js_7a6c8299d6"
            ]
          },
          "metadata": {}
        },
        {
          "output_type": "display_data",
          "data": {
            "text/plain": [
              "<IPython.core.display.Javascript object>"
            ],
            "application/javascript": [
              "window[\"3dec4a16-41bd-11ed-b421-0242ac1c0002\"] = document.querySelector(\"#id2-0-0\");\n",
              "//# sourceURL=js_3738b0bdfc"
            ]
          },
          "metadata": {}
        },
        {
          "output_type": "display_data",
          "data": {
            "text/plain": [
              "<IPython.core.display.Javascript object>"
            ],
            "application/javascript": [
              "window[\"3ded24ae-41bd-11ed-b421-0242ac1c0002\"] = google.colab.output.setActiveOutputArea(window[\"3dec4a16-41bd-11ed-b421-0242ac1c0002\"]);\n",
              "//# sourceURL=js_0bf980e00b"
            ]
          },
          "metadata": {}
        },
        {
          "output_type": "stream",
          "name": "stdout",
          "text": [
            "observation: [1 0]\n",
            "reward: 2\n",
            "action: down\n",
            "action 1\n"
          ]
        },
        {
          "output_type": "display_data",
          "data": {
            "text/plain": [
              "<Figure size 432x288 with 1 Axes>"
            ],
            "image/png": "[encoded data removed]"
          },
          "metadata": {
            "needs_background": "light"
          }
        },
        {
          "output_type": "stream",
          "name": "stdout",
          "text": [
            "-----------------\n"
          ]
        },
        {
          "output_type": "display_data",
          "data": {
            "text/plain": [
              "<IPython.core.display.Javascript object>"
            ],
            "application/javascript": [
              "window[\"3e3c28f6-41bd-11ed-b421-0242ac1c0002\"] = google.colab.output.setActiveOutputArea(window[\"3deb445e-41bd-11ed-b421-0242ac1c0002\"]);\n",
              "//# sourceURL=js_026d32e4fc"
            ]
          },
          "metadata": {}
        },
        {
          "output_type": "display_data",
          "data": {
            "text/plain": [
              "<IPython.core.display.Javascript object>"
            ],
            "application/javascript": [
              "window[\"3ed83d5e-41bd-11ed-b421-0242ac1c0002\"] = google.colab.output.getActiveOutputArea();\n",
              "//# sourceURL=js_c61c4511fc"
            ]
          },
          "metadata": {}
        },
        {
          "output_type": "display_data",
          "data": {
            "text/plain": [
              "<IPython.core.display.Javascript object>"
            ],
            "application/javascript": [
              "window[\"3ed8fb90-41bd-11ed-b421-0242ac1c0002\"] = document.querySelector(\"#id2-0-0\");\n",
              "//# sourceURL=js_e0252669e0"
            ]
          },
          "metadata": {}
        },
        {
          "output_type": "display_data",
          "data": {
            "text/plain": [
              "<IPython.core.display.Javascript object>"
            ],
            "application/javascript": [
              "window[\"3ed9b314-41bd-11ed-b421-0242ac1c0002\"] = google.colab.output.setActiveOutputArea(window[\"3ed8fb90-41bd-11ed-b421-0242ac1c0002\"]);\n",
              "//# sourceURL=js_5092a0669e"
            ]
          },
          "metadata": {}
        },
        {
          "output_type": "stream",
          "name": "stdout",
          "text": [
            "observation: [2 0]\n",
            "reward: -3\n",
            "action: down\n",
            "action 1\n"
          ]
        },
        {
          "output_type": "display_data",
          "data": {
            "text/plain": [
              "<Figure size 432x288 with 1 Axes>"
            ],
            "image/png": "[encoded data removed]"
          },
          "metadata": {
            "needs_background": "light"
          }
        },
        {
          "output_type": "stream",
          "name": "stdout",
          "text": [
            "-----------------\n"
          ]
        },
        {
          "output_type": "display_data",
          "data": {
            "text/plain": [
              "<IPython.core.display.Javascript object>"
            ],
            "application/javascript": [
              "window[\"3f281090-41bd-11ed-b421-0242ac1c0002\"] = google.colab.output.setActiveOutputArea(window[\"3ed83d5e-41bd-11ed-b421-0242ac1c0002\"]);\n",
              "//# sourceURL=js_ca6edd126c"
            ]
          },
          "metadata": {}
        },
        {
          "output_type": "display_data",
          "data": {
            "text/plain": [
              "<IPython.core.display.Javascript object>"
            ],
            "application/javascript": [
              "window[\"3fc5c22c-41bd-11ed-b421-0242ac1c0002\"] = google.colab.output.getActiveOutputArea();\n",
              "//# sourceURL=js_5a5e46e3e5"
            ]
          },
          "metadata": {}
        },
        {
          "output_type": "display_data",
          "data": {
            "text/plain": [
              "<IPython.core.display.Javascript object>"
            ],
            "application/javascript": [
              "window[\"3fc6d928-41bd-11ed-b421-0242ac1c0002\"] = document.querySelector(\"#id2-0-0\");\n",
              "//# sourceURL=js_e8a4091110"
            ]
          },
          "metadata": {}
        },
        {
          "output_type": "display_data",
          "data": {
            "text/plain": [
              "<IPython.core.display.Javascript object>"
            ],
            "application/javascript": [
              "window[\"3fc82ef4-41bd-11ed-b421-0242ac1c0002\"] = google.colab.output.setActiveOutputArea(window[\"3fc6d928-41bd-11ed-b421-0242ac1c0002\"]);\n",
              "//# sourceURL=js_e4540ae8fc"
            ]
          },
          "metadata": {}
        },
        {
          "output_type": "stream",
          "name": "stdout",
          "text": [
            "observation: [2 0]\n",
            "reward: -3\n",
            "action: left\n",
            "action 3\n"
          ]
        },
        {
          "output_type": "display_data",
          "data": {
            "text/plain": [
              "<Figure size 432x288 with 1 Axes>"
            ],
            "image/png": "[encoded data removed]"
          },
          "metadata": {
            "needs_background": "light"
          }
        },
        {
          "output_type": "stream",
          "name": "stdout",
          "text": [
            "-----------------\n"
          ]
        },
        {
          "output_type": "display_data",
          "data": {
            "text/plain": [
              "<IPython.core.display.Javascript object>"
            ],
            "application/javascript": [
              "window[\"400f91ea-41bd-11ed-b421-0242ac1c0002\"] = google.colab.output.setActiveOutputArea(window[\"3fc5c22c-41bd-11ed-b421-0242ac1c0002\"]);\n",
              "//# sourceURL=js_22895c2f43"
            ]
          },
          "metadata": {}
        },
        {
          "output_type": "display_data",
          "data": {
            "text/plain": [
              "<IPython.core.display.Javascript object>"
            ],
            "application/javascript": [
              "window[\"40ae547e-41bd-11ed-b421-0242ac1c0002\"] = google.colab.output.getActiveOutputArea();\n",
              "//# sourceURL=js_a2b62e7cec"
            ]
          },
          "metadata": {}
        },
        {
          "output_type": "display_data",
          "data": {
            "text/plain": [
              "<IPython.core.display.Javascript object>"
            ],
            "application/javascript": [
              "window[\"40af7214-41bd-11ed-b421-0242ac1c0002\"] = document.querySelector(\"#id2-0-0\");\n",
              "//# sourceURL=js_a5733567af"
            ]
          },
          "metadata": {}
        },
        {
          "output_type": "display_data",
          "data": {
            "text/plain": [
              "<IPython.core.display.Javascript object>"
            ],
            "application/javascript": [
              "window[\"40b04540-41bd-11ed-b421-0242ac1c0002\"] = google.colab.output.setActiveOutputArea(window[\"40af7214-41bd-11ed-b421-0242ac1c0002\"]);\n",
              "//# sourceURL=js_369c5a6dc8"
            ]
          },
          "metadata": {}
        },
        {
          "output_type": "stream",
          "name": "stdout",
          "text": [
            "observation: [2 0]\n",
            "reward: -3\n",
            "action: left\n",
            "action 3\n"
          ]
        },
        {
          "output_type": "display_data",
          "data": {
            "text/plain": [
              "<Figure size 432x288 with 1 Axes>"
            ],
            "image/png": "[encoded data removed]"
          },
          "metadata": {
            "needs_background": "light"
          }
        },
        {
          "output_type": "stream",
          "name": "stdout",
          "text": [
            "-----------------\n"
          ]
        },
        {
          "output_type": "display_data",
          "data": {
            "text/plain": [
              "<IPython.core.display.Javascript object>"
            ],
            "application/javascript": [
              "window[\"40eb6c10-41bd-11ed-b421-0242ac1c0002\"] = google.colab.output.setActiveOutputArea(window[\"40ae547e-41bd-11ed-b421-0242ac1c0002\"]);\n",
              "//# sourceURL=js_4049570b9d"
            ]
          },
          "metadata": {}
        },
        {
          "output_type": "display_data",
          "data": {
            "text/plain": [
              "<IPython.core.display.Javascript object>"
            ],
            "application/javascript": [
              "window[\"4187d9a6-41bd-11ed-b421-0242ac1c0002\"] = google.colab.output.getActiveOutputArea();\n",
              "//# sourceURL=js_eece23ab21"
            ]
          },
          "metadata": {}
        },
        {
          "output_type": "display_data",
          "data": {
            "text/plain": [
              "<IPython.core.display.Javascript object>"
            ],
            "application/javascript": [
              "window[\"418877e4-41bd-11ed-b421-0242ac1c0002\"] = document.querySelector(\"#id2-0-0\");\n",
              "//# sourceURL=js_6bd21ee90b"
            ]
          },
          "metadata": {}
        },
        {
          "output_type": "display_data",
          "data": {
            "text/plain": [
              "<IPython.core.display.Javascript object>"
            ],
            "application/javascript": [
              "window[\"4188e76a-41bd-11ed-b421-0242ac1c0002\"] = google.colab.output.setActiveOutputArea(window[\"418877e4-41bd-11ed-b421-0242ac1c0002\"]);\n",
              "//# sourceURL=js_a330d5481a"
            ]
          },
          "metadata": {}
        },
        {
          "output_type": "stream",
          "name": "stdout",
          "text": [
            "observation: [2 1]\n",
            "reward: 0\n",
            "action: right\n",
            "action 2\n"
          ]
        },
        {
          "output_type": "display_data",
          "data": {
            "text/plain": [
              "<Figure size 432x288 with 1 Axes>"
            ],
            "image/png": "[encoded data removed]"
          },
          "metadata": {
            "needs_background": "light"
          }
        },
        {
          "output_type": "stream",
          "name": "stdout",
          "text": [
            "-----------------\n"
          ]
        },
        {
          "output_type": "display_data",
          "data": {
            "text/plain": [
              "<IPython.core.display.Javascript object>"
            ],
            "application/javascript": [
              "window[\"41c9f660-41bd-11ed-b421-0242ac1c0002\"] = google.colab.output.setActiveOutputArea(window[\"4187d9a6-41bd-11ed-b421-0242ac1c0002\"]);\n",
              "//# sourceURL=js_ad79650aad"
            ]
          },
          "metadata": {}
        },
        {
          "output_type": "display_data",
          "data": {
            "text/plain": [
              "<IPython.core.display.Javascript object>"
            ],
            "application/javascript": [
              "window[\"4269d18a-41bd-11ed-b421-0242ac1c0002\"] = google.colab.output.getActiveOutputArea();\n",
              "//# sourceURL=js_ce82aaa842"
            ]
          },
          "metadata": {}
        },
        {
          "output_type": "display_data",
          "data": {
            "text/plain": [
              "<IPython.core.display.Javascript object>"
            ],
            "application/javascript": [
              "window[\"426cfcf2-41bd-11ed-b421-0242ac1c0002\"] = document.querySelector(\"#id2-0-0\");\n",
              "//# sourceURL=js_48da5026b1"
            ]
          },
          "metadata": {}
        },
        {
          "output_type": "display_data",
          "data": {
            "text/plain": [
              "<IPython.core.display.Javascript object>"
            ],
            "application/javascript": [
              "window[\"426e63c6-41bd-11ed-b421-0242ac1c0002\"] = google.colab.output.setActiveOutputArea(window[\"426cfcf2-41bd-11ed-b421-0242ac1c0002\"]);\n",
              "//# sourceURL=js_69d2f8f01b"
            ]
          },
          "metadata": {}
        },
        {
          "output_type": "stream",
          "name": "stdout",
          "text": [
            "observation: [1 1]\n",
            "reward: 0\n",
            "action: up\n",
            "action 0\n"
          ]
        },
        {
          "output_type": "display_data",
          "data": {
            "text/plain": [
              "<Figure size 432x288 with 1 Axes>"
            ],
            "image/png": "[encoded data removed]"
          },
          "metadata": {
            "needs_background": "light"
          }
        },
        {
          "output_type": "stream",
          "name": "stdout",
          "text": [
            "-----------------\n"
          ]
        },
        {
          "output_type": "display_data",
          "data": {
            "text/plain": [
              "<IPython.core.display.Javascript object>"
            ],
            "application/javascript": [
              "window[\"42b0806c-41bd-11ed-b421-0242ac1c0002\"] = google.colab.output.setActiveOutputArea(window[\"4269d18a-41bd-11ed-b421-0242ac1c0002\"]);\n",
              "//# sourceURL=js_2b416dbdf0"
            ]
          },
          "metadata": {}
        },
        {
          "output_type": "display_data",
          "data": {
            "text/plain": [
              "<IPython.core.display.Javascript object>"
            ],
            "application/javascript": [
              "window[\"434fe346-41bd-11ed-b421-0242ac1c0002\"] = google.colab.output.getActiveOutputArea();\n",
              "//# sourceURL=js_62db84e657"
            ]
          },
          "metadata": {}
        },
        {
          "output_type": "display_data",
          "data": {
            "text/plain": [
              "<IPython.core.display.Javascript object>"
            ],
            "application/javascript": [
              "window[\"43504f84-41bd-11ed-b421-0242ac1c0002\"] = document.querySelector(\"#id2-0-0\");\n",
              "//# sourceURL=js_1f4d260a38"
            ]
          },
          "metadata": {}
        },
        {
          "output_type": "display_data",
          "data": {
            "text/plain": [
              "<IPython.core.display.Javascript object>"
            ],
            "application/javascript": [
              "window[\"4350af4c-41bd-11ed-b421-0242ac1c0002\"] = google.colab.output.setActiveOutputArea(window[\"43504f84-41bd-11ed-b421-0242ac1c0002\"]);\n",
              "//# sourceURL=js_fc00404f47"
            ]
          },
          "metadata": {}
        },
        {
          "output_type": "stream",
          "name": "stdout",
          "text": [
            "observation: [0 1]\n",
            "reward: 0\n",
            "action: up\n",
            "action 0\n"
          ]
        },
        {
          "output_type": "display_data",
          "data": {
            "text/plain": [
              "<Figure size 432x288 with 1 Axes>"
            ],
            "image/png": "[encoded data removed]"
          },
          "metadata": {
            "needs_background": "light"
          }
        },
        {
          "output_type": "stream",
          "name": "stdout",
          "text": [
            "-----------------\n"
          ]
        },
        {
          "output_type": "display_data",
          "data": {
            "text/plain": [
              "<IPython.core.display.Javascript object>"
            ],
            "application/javascript": [
              "window[\"436da6e2-41bd-11ed-b421-0242ac1c0002\"] = google.colab.output.setActiveOutputArea(window[\"434fe346-41bd-11ed-b421-0242ac1c0002\"]);\n",
              "//# sourceURL=js_820ea25dd1"
            ]
          },
          "metadata": {}
        },
        {
          "output_type": "display_data",
          "data": {
            "text/plain": [
              "<IPython.core.display.Javascript object>"
            ],
            "application/javascript": [
              "window[\"4408d59a-41bd-11ed-b421-0242ac1c0002\"] = google.colab.output.getActiveOutputArea();\n",
              "//# sourceURL=js_209bfa6aef"
            ]
          },
          "metadata": {}
        },
        {
          "output_type": "display_data",
          "data": {
            "text/plain": [
              "<IPython.core.display.Javascript object>"
            ],
            "application/javascript": [
              "window[\"4409464c-41bd-11ed-b421-0242ac1c0002\"] = document.querySelector(\"#id2-0-0\");\n",
              "//# sourceURL=js_7e184ea66f"
            ]
          },
          "metadata": {}
        },
        {
          "output_type": "display_data",
          "data": {
            "text/plain": [
              "<IPython.core.display.Javascript object>"
            ],
            "application/javascript": [
              "window[\"4409a628-41bd-11ed-b421-0242ac1c0002\"] = google.colab.output.setActiveOutputArea(window[\"4409464c-41bd-11ed-b421-0242ac1c0002\"]);\n",
              "//# sourceURL=js_3cde23e928"
            ]
          },
          "metadata": {}
        },
        {
          "output_type": "stream",
          "name": "stdout",
          "text": [
            "observation: [0 0]\n",
            "reward: 0\n",
            "action: left\n",
            "action 3\n"
          ]
        },
        {
          "output_type": "display_data",
          "data": {
            "text/plain": [
              "<Figure size 432x288 with 1 Axes>"
            ],
            "image/png": "[encoded data removed]"
          },
          "metadata": {
            "needs_background": "light"
          }
        },
        {
          "output_type": "stream",
          "name": "stdout",
          "text": [
            "-----------------\n"
          ]
        },
        {
          "output_type": "display_data",
          "data": {
            "text/plain": [
              "<IPython.core.display.Javascript object>"
            ],
            "application/javascript": [
              "window[\"4425b0de-41bd-11ed-b421-0242ac1c0002\"] = google.colab.output.setActiveOutputArea(window[\"4408d59a-41bd-11ed-b421-0242ac1c0002\"]);\n",
              "//# sourceURL=js_057ab39d95"
            ]
          },
          "metadata": {}
        },
        {
          "output_type": "display_data",
          "data": {
            "text/plain": [
              "<IPython.core.display.Javascript object>"
            ],
            "application/javascript": [
              "window[\"44c1447c-41bd-11ed-b421-0242ac1c0002\"] = google.colab.output.getActiveOutputArea();\n",
              "//# sourceURL=js_8aa8aee17a"
            ]
          },
          "metadata": {}
        },
        {
          "output_type": "display_data",
          "data": {
            "text/plain": [
              "<IPython.core.display.Javascript object>"
            ],
            "application/javascript": [
              "window[\"44c1d162-41bd-11ed-b421-0242ac1c0002\"] = document.querySelector(\"#id2-0-0\");\n",
              "//# sourceURL=js_741b971f4a"
            ]
          },
          "metadata": {}
        },
        {
          "output_type": "display_data",
          "data": {
            "text/plain": [
              "<IPython.core.display.Javascript object>"
            ],
            "application/javascript": [
              "window[\"44c265c8-41bd-11ed-b421-0242ac1c0002\"] = google.colab.output.setActiveOutputArea(window[\"44c1d162-41bd-11ed-b421-0242ac1c0002\"]);\n",
              "//# sourceURL=js_cd0451a5ef"
            ]
          },
          "metadata": {}
        },
        {
          "output_type": "stream",
          "name": "stdout",
          "text": [
            "observation: [1 0]\n",
            "reward: 2\n",
            "action: down\n",
            "action 1\n"
          ]
        },
        {
          "output_type": "display_data",
          "data": {
            "text/plain": [
              "<Figure size 432x288 with 1 Axes>"
            ],
            "image/png": "[encoded data removed]"
          },
          "metadata": {
            "needs_background": "light"
          }
        },
        {
          "output_type": "stream",
          "name": "stdout",
          "text": [
            "-----------------\n"
          ]
        },
        {
          "output_type": "display_data",
          "data": {
            "text/plain": [
              "<IPython.core.display.Javascript object>"
            ],
            "application/javascript": [
              "window[\"44e21d1e-41bd-11ed-b421-0242ac1c0002\"] = google.colab.output.setActiveOutputArea(window[\"44c1447c-41bd-11ed-b421-0242ac1c0002\"]);\n",
              "//# sourceURL=js_d7c4a0d603"
            ]
          },
          "metadata": {}
        },
        {
          "output_type": "display_data",
          "data": {
            "text/plain": [
              "<IPython.core.display.Javascript object>"
            ],
            "application/javascript": [
              "window[\"457d1652-41bd-11ed-b421-0242ac1c0002\"] = google.colab.output.getActiveOutputArea();\n",
              "//# sourceURL=js_36152e2a23"
            ]
          },
          "metadata": {}
        },
        {
          "output_type": "display_data",
          "data": {
            "text/plain": [
              "<IPython.core.display.Javascript object>"
            ],
            "application/javascript": [
              "window[\"457d91ae-41bd-11ed-b421-0242ac1c0002\"] = document.querySelector(\"#id2-0-0\");\n",
              "//# sourceURL=js_2eb8030911"
            ]
          },
          "metadata": {}
        },
        {
          "output_type": "display_data",
          "data": {
            "text/plain": [
              "<IPython.core.display.Javascript object>"
            ],
            "application/javascript": [
              "window[\"457df716-41bd-11ed-b421-0242ac1c0002\"] = google.colab.output.setActiveOutputArea(window[\"457d91ae-41bd-11ed-b421-0242ac1c0002\"]);\n",
              "//# sourceURL=js_c21255c279"
            ]
          },
          "metadata": {}
        },
        {
          "output_type": "stream",
          "name": "stdout",
          "text": [
            "observation: [2 0]\n",
            "reward: -3\n",
            "action: down\n",
            "action 1\n"
          ]
        },
        {
          "output_type": "display_data",
          "data": {
            "text/plain": [
              "<Figure size 432x288 with 1 Axes>"
            ],
            "image/png": "[encoded data removed]"
          },
          "metadata": {
            "needs_background": "light"
          }
        },
        {
          "output_type": "stream",
          "name": "stdout",
          "text": [
            "-----------------\n"
          ]
        },
        {
          "output_type": "display_data",
          "data": {
            "text/plain": [
              "<IPython.core.display.Javascript object>"
            ],
            "application/javascript": [
              "window[\"459c93b0-41bd-11ed-b421-0242ac1c0002\"] = google.colab.output.setActiveOutputArea(window[\"457d1652-41bd-11ed-b421-0242ac1c0002\"]);\n",
              "//# sourceURL=js_3ffd5cba98"
            ]
          },
          "metadata": {}
        },
        {
          "output_type": "stream",
          "name": "stdout",
          "text": [
            "\n",
            "\n",
            "\n",
            " Visualizing stochastic environment with random actions for 10 timesteps\n",
            "\n",
            "\n"
          ]
        },
        {
          "output_type": "display_data",
          "data": {
            "text/plain": [
              "<Figure size 432x288 with 1 Axes>"
            ],
            "image/png": "[encoded data removed]"
          },
          "metadata": {
            "needs_background": "light"
          }
        },
        {
          "output_type": "display_data",
          "data": {
            "text/plain": [
              "<IPython.core.display.HTML object>"
            ],
            "text/html": [
              "<style>\n",
              "       table#id4, #id4 > tbody > tr > th, #id4 > tbody > tr > td {\n",
              "         border: 1px solid lightgray;\n",
              "         border-collapse:collapse;\n",
              "         \n",
              "        }</style>"
            ]
          },
          "metadata": {}
        },
        {
          "output_type": "display_data",
          "data": {
            "text/plain": [
              "<IPython.core.display.HTML object>"
            ],
            "text/html": [
              "<table id=id4><tr><td id=id4-0-0></td><td id=id4-0-1></td></tr><tr><td id=id4-1-0></td><td id=id4-1-1></td></tr></table>"
            ]
          },
          "metadata": {}
        },
        {
          "output_type": "display_data",
          "data": {
            "text/plain": [
              "<IPython.core.display.Javascript object>"
            ],
            "application/javascript": [
              "window[\"46529d68-41bd-11ed-b421-0242ac1c0002\"] = google.colab.output.getActiveOutputArea();\n",
              "//# sourceURL=js_345619992d"
            ]
          },
          "metadata": {}
        },
        {
          "output_type": "display_data",
          "data": {
            "text/plain": [
              "<IPython.core.display.Javascript object>"
            ],
            "application/javascript": [
              "window[\"4652f98e-41bd-11ed-b421-0242ac1c0002\"] = document.querySelector(\"#id4-0-0\");\n",
              "//# sourceURL=js_189189f6e1"
            ]
          },
          "metadata": {}
        },
        {
          "output_type": "display_data",
          "data": {
            "text/plain": [
              "<IPython.core.display.Javascript object>"
            ],
            "application/javascript": [
              "window[\"4653924a-41bd-11ed-b421-0242ac1c0002\"] = google.colab.output.setActiveOutputArea(window[\"4652f98e-41bd-11ed-b421-0242ac1c0002\"]);\n",
              "//# sourceURL=js_152948ba56"
            ]
          },
          "metadata": {}
        },
        {
          "output_type": "stream",
          "name": "stdout",
          "text": [
            "observation: [0 1]\n",
            "reward: 0\n",
            "action: right\n",
            "action 2\n",
            "random_action False\n"
          ]
        },
        {
          "output_type": "display_data",
          "data": {
            "text/plain": [
              "<Figure size 432x288 with 1 Axes>"
            ],
            "image/png": "[encoded data removed]"
          },
          "metadata": {
            "needs_background": "light"
          }
        },
        {
          "output_type": "stream",
          "name": "stdout",
          "text": [
            "-----------------\n"
          ]
        },
        {
          "output_type": "display_data",
          "data": {
            "text/plain": [
              "<IPython.core.display.Javascript object>"
            ],
            "application/javascript": [
              "window[\"46700b64-41bd-11ed-b421-0242ac1c0002\"] = google.colab.output.setActiveOutputArea(window[\"46529d68-41bd-11ed-b421-0242ac1c0002\"]);\n",
              "//# sourceURL=js_01beda7dde"
            ]
          },
          "metadata": {}
        },
        {
          "output_type": "display_data",
          "data": {
            "text/plain": [
              "<IPython.core.display.Javascript object>"
            ],
            "application/javascript": [
              "window[\"470c055a-41bd-11ed-b421-0242ac1c0002\"] = google.colab.output.getActiveOutputArea();\n",
              "//# sourceURL=js_c464ce6ca9"
            ]
          },
          "metadata": {}
        },
        {
          "output_type": "display_data",
          "data": {
            "text/plain": [
              "<IPython.core.display.Javascript object>"
            ],
            "application/javascript": [
              "window[\"470cd50c-41bd-11ed-b421-0242ac1c0002\"] = document.querySelector(\"#id4-0-0\");\n",
              "//# sourceURL=js_fa34a80074"
            ]
          },
          "metadata": {}
        },
        {
          "output_type": "display_data",
          "data": {
            "text/plain": [
              "<IPython.core.display.Javascript object>"
            ],
            "application/javascript": [
              "window[\"470d5bda-41bd-11ed-b421-0242ac1c0002\"] = google.colab.output.setActiveOutputArea(window[\"470cd50c-41bd-11ed-b421-0242ac1c0002\"]);\n",
              "//# sourceURL=js_58f9ee5e53"
            ]
          },
          "metadata": {}
        },
        {
          "output_type": "stream",
          "name": "stdout",
          "text": [
            "observation: [0 1]\n",
            "reward: 0\n",
            "action: up\n",
            "action 0\n",
            "random_action False\n"
          ]
        },
        {
          "output_type": "display_data",
          "data": {
            "text/plain": [
              "<Figure size 432x288 with 1 Axes>"
            ],
            "image/png": "[encoded data removed]"
          },
          "metadata": {
            "needs_background": "light"
          }
        },
        {
          "output_type": "stream",
          "name": "stdout",
          "text": [
            "-----------------\n"
          ]
        },
        {
          "output_type": "display_data",
          "data": {
            "text/plain": [
              "<IPython.core.display.Javascript object>"
            ],
            "application/javascript": [
              "window[\"473c410c-41bd-11ed-b421-0242ac1c0002\"] = google.colab.output.setActiveOutputArea(window[\"470c055a-41bd-11ed-b421-0242ac1c0002\"]);\n",
              "//# sourceURL=js_e6854fa59d"
            ]
          },
          "metadata": {}
        },
        {
          "output_type": "display_data",
          "data": {
            "text/plain": [
              "<IPython.core.display.Javascript object>"
            ],
            "application/javascript": [
              "window[\"47d7986e-41bd-11ed-b421-0242ac1c0002\"] = google.colab.output.getActiveOutputArea();\n",
              "//# sourceURL=js_531dae132f"
            ]
          },
          "metadata": {}
        },
        {
          "output_type": "display_data",
          "data": {
            "text/plain": [
              "<IPython.core.display.Javascript object>"
            ],
            "application/javascript": [
              "window[\"47d7f9a8-41bd-11ed-b421-0242ac1c0002\"] = document.querySelector(\"#id4-0-0\");\n",
              "//# sourceURL=js_09596574ef"
            ]
          },
          "metadata": {}
        },
        {
          "output_type": "display_data",
          "data": {
            "text/plain": [
              "<IPython.core.display.Javascript object>"
            ],
            "application/javascript": [
              "window[\"47d85998-41bd-11ed-b421-0242ac1c0002\"] = google.colab.output.setActiveOutputArea(window[\"47d7f9a8-41bd-11ed-b421-0242ac1c0002\"]);\n",
              "//# sourceURL=js_c826aec347"
            ]
          },
          "metadata": {}
        },
        {
          "output_type": "stream",
          "name": "stdout",
          "text": [
            "observation: [0 1]\n",
            "reward: 0\n",
            "action: down\n",
            "action 1\n",
            "random_action True\n"
          ]
        },
        {
          "output_type": "display_data",
          "data": {
            "text/plain": [
              "<Figure size 432x288 with 1 Axes>"
            ],
            "image/png": "[encoded data removed]"
          },
          "metadata": {
            "needs_background": "light"
          }
        },
        {
          "output_type": "stream",
          "name": "stdout",
          "text": [
            "-----------------\n"
          ]
        },
        {
          "output_type": "display_data",
          "data": {
            "text/plain": [
              "<IPython.core.display.Javascript object>"
            ],
            "application/javascript": [
              "window[\"47f77bf2-41bd-11ed-b421-0242ac1c0002\"] = google.colab.output.setActiveOutputArea(window[\"47d7986e-41bd-11ed-b421-0242ac1c0002\"]);\n",
              "//# sourceURL=js_769dd465f1"
            ]
          },
          "metadata": {}
        },
        {
          "output_type": "display_data",
          "data": {
            "text/plain": [
              "<IPython.core.display.Javascript object>"
            ],
            "application/javascript": [
              "window[\"4892a8c0-41bd-11ed-b421-0242ac1c0002\"] = google.colab.output.getActiveOutputArea();\n",
              "//# sourceURL=js_6a55e2bccc"
            ]
          },
          "metadata": {}
        },
        {
          "output_type": "display_data",
          "data": {
            "text/plain": [
              "<IPython.core.display.Javascript object>"
            ],
            "application/javascript": [
              "window[\"4893054a-41bd-11ed-b421-0242ac1c0002\"] = document.querySelector(\"#id4-0-0\");\n",
              "//# sourceURL=js_cb1f516b9b"
            ]
          },
          "metadata": {}
        },
        {
          "output_type": "display_data",
          "data": {
            "text/plain": [
              "<IPython.core.display.Javascript object>"
            ],
            "application/javascript": [
              "window[\"48938042-41bd-11ed-b421-0242ac1c0002\"] = google.colab.output.setActiveOutputArea(window[\"4893054a-41bd-11ed-b421-0242ac1c0002\"]);\n",
              "//# sourceURL=js_714c4bc00f"
            ]
          },
          "metadata": {}
        },
        {
          "output_type": "stream",
          "name": "stdout",
          "text": [
            "observation: [0 2]\n",
            "reward: 0\n",
            "action: left\n",
            "action 3\n",
            "random_action True\n"
          ]
        },
        {
          "output_type": "display_data",
          "data": {
            "text/plain": [
              "<Figure size 432x288 with 1 Axes>"
            ],
            "image/png": "[encoded data removed]"
          },
          "metadata": {
            "needs_background": "light"
          }
        },
        {
          "output_type": "stream",
          "name": "stdout",
          "text": [
            "-----------------\n"
          ]
        },
        {
          "output_type": "display_data",
          "data": {
            "text/plain": [
              "<IPython.core.display.Javascript object>"
            ],
            "application/javascript": [
              "window[\"48b0b810-41bd-11ed-b421-0242ac1c0002\"] = google.colab.output.setActiveOutputArea(window[\"4892a8c0-41bd-11ed-b421-0242ac1c0002\"]);\n",
              "//# sourceURL=js_332714bfe2"
            ]
          },
          "metadata": {}
        },
        {
          "output_type": "display_data",
          "data": {
            "text/plain": [
              "<IPython.core.display.Javascript object>"
            ],
            "application/javascript": [
              "window[\"494c4708-41bd-11ed-b421-0242ac1c0002\"] = google.colab.output.getActiveOutputArea();\n",
              "//# sourceURL=js_28f6f0f456"
            ]
          },
          "metadata": {}
        },
        {
          "output_type": "display_data",
          "data": {
            "text/plain": [
              "<IPython.core.display.Javascript object>"
            ],
            "application/javascript": [
              "window[\"494ccd4a-41bd-11ed-b421-0242ac1c0002\"] = document.querySelector(\"#id4-0-0\");\n",
              "//# sourceURL=js_f96e77d6b8"
            ]
          },
          "metadata": {}
        },
        {
          "output_type": "display_data",
          "data": {
            "text/plain": [
              "<IPython.core.display.Javascript object>"
            ],
            "application/javascript": [
              "window[\"494d38f2-41bd-11ed-b421-0242ac1c0002\"] = google.colab.output.setActiveOutputArea(window[\"494ccd4a-41bd-11ed-b421-0242ac1c0002\"]);\n",
              "//# sourceURL=js_50d2e604ff"
            ]
          },
          "metadata": {}
        },
        {
          "output_type": "stream",
          "name": "stdout",
          "text": [
            "observation: [0 1]\n",
            "reward: 0\n",
            "action: left\n",
            "action 3\n",
            "random_action False\n"
          ]
        },
        {
          "output_type": "display_data",
          "data": {
            "text/plain": [
              "<Figure size 432x288 with 1 Axes>"
            ],
            "image/png": "[encoded data removed]"
          },
          "metadata": {
            "needs_background": "light"
          }
        },
        {
          "output_type": "stream",
          "name": "stdout",
          "text": [
            "-----------------\n"
          ]
        },
        {
          "output_type": "display_data",
          "data": {
            "text/plain": [
              "<IPython.core.display.Javascript object>"
            ],
            "application/javascript": [
              "window[\"496a1bf2-41bd-11ed-b421-0242ac1c0002\"] = google.colab.output.setActiveOutputArea(window[\"494c4708-41bd-11ed-b421-0242ac1c0002\"]);\n",
              "//# sourceURL=js_a812b6bd57"
            ]
          },
          "metadata": {}
        },
        {
          "output_type": "display_data",
          "data": {
            "text/plain": [
              "<IPython.core.display.Javascript object>"
            ],
            "application/javascript": [
              "window[\"4a052296-41bd-11ed-b421-0242ac1c0002\"] = google.colab.output.getActiveOutputArea();\n",
              "//# sourceURL=js_79e713d317"
            ]
          },
          "metadata": {}
        },
        {
          "output_type": "display_data",
          "data": {
            "text/plain": [
              "<IPython.core.display.Javascript object>"
            ],
            "application/javascript": [
              "window[\"4a0631f4-41bd-11ed-b421-0242ac1c0002\"] = document.querySelector(\"#id4-0-0\");\n",
              "//# sourceURL=js_ba59e23a7d"
            ]
          },
          "metadata": {}
        },
        {
          "output_type": "display_data",
          "data": {
            "text/plain": [
              "<IPython.core.display.Javascript object>"
            ],
            "application/javascript": [
              "window[\"4a069298-41bd-11ed-b421-0242ac1c0002\"] = google.colab.output.setActiveOutputArea(window[\"4a0631f4-41bd-11ed-b421-0242ac1c0002\"]);\n",
              "//# sourceURL=js_e57cfd8dc9"
            ]
          },
          "metadata": {}
        },
        {
          "output_type": "stream",
          "name": "stdout",
          "text": [
            "observation: [0 2]\n",
            "reward: 0\n",
            "action: right\n",
            "action 2\n",
            "random_action False\n"
          ]
        },
        {
          "output_type": "display_data",
          "data": {
            "text/plain": [
              "<Figure size 432x288 with 1 Axes>"
            ],
            "image/png": "[encoded data removed]"
          },
          "metadata": {
            "needs_background": "light"
          }
        },
        {
          "output_type": "stream",
          "name": "stdout",
          "text": [
            "-----------------\n"
          ]
        },
        {
          "output_type": "display_data",
          "data": {
            "text/plain": [
              "<IPython.core.display.Javascript object>"
            ],
            "application/javascript": [
              "window[\"4a2308c4-41bd-11ed-b421-0242ac1c0002\"] = google.colab.output.setActiveOutputArea(window[\"4a052296-41bd-11ed-b421-0242ac1c0002\"]);\n",
              "//# sourceURL=js_ced264b8d7"
            ]
          },
          "metadata": {}
        },
        {
          "output_type": "display_data",
          "data": {
            "text/plain": [
              "<IPython.core.display.Javascript object>"
            ],
            "application/javascript": [
              "window[\"4abe3ec0-41bd-11ed-b421-0242ac1c0002\"] = google.colab.output.getActiveOutputArea();\n",
              "//# sourceURL=js_9946916a92"
            ]
          },
          "metadata": {}
        },
        {
          "output_type": "display_data",
          "data": {
            "text/plain": [
              "<IPython.core.display.Javascript object>"
            ],
            "application/javascript": [
              "window[\"4abea310-41bd-11ed-b421-0242ac1c0002\"] = document.querySelector(\"#id4-0-0\");\n",
              "//# sourceURL=js_9a4294f4a8"
            ]
          },
          "metadata": {}
        },
        {
          "output_type": "display_data",
          "data": {
            "text/plain": [
              "<IPython.core.display.Javascript object>"
            ],
            "application/javascript": [
              "window[\"4abf1002-41bd-11ed-b421-0242ac1c0002\"] = google.colab.output.setActiveOutputArea(window[\"4abea310-41bd-11ed-b421-0242ac1c0002\"]);\n",
              "//# sourceURL=js_7b2aec0714"
            ]
          },
          "metadata": {}
        },
        {
          "output_type": "stream",
          "name": "stdout",
          "text": [
            "observation: [0 1]\n",
            "reward: 0\n",
            "action: up\n",
            "action 0\n",
            "random_action True\n"
          ]
        },
        {
          "output_type": "display_data",
          "data": {
            "text/plain": [
              "<Figure size 432x288 with 1 Axes>"
            ],
            "image/png": "[encoded data removed]"
          },
          "metadata": {
            "needs_background": "light"
          }
        },
        {
          "output_type": "stream",
          "name": "stdout",
          "text": [
            "-----------------\n"
          ]
        },
        {
          "output_type": "display_data",
          "data": {
            "text/plain": [
              "<IPython.core.display.Javascript object>"
            ],
            "application/javascript": [
              "window[\"4adde5e0-41bd-11ed-b421-0242ac1c0002\"] = google.colab.output.setActiveOutputArea(window[\"4abe3ec0-41bd-11ed-b421-0242ac1c0002\"]);\n",
              "//# sourceURL=js_d99fef760b"
            ]
          },
          "metadata": {}
        },
        {
          "output_type": "display_data",
          "data": {
            "text/plain": [
              "<IPython.core.display.Javascript object>"
            ],
            "application/javascript": [
              "window[\"4b78eac2-41bd-11ed-b421-0242ac1c0002\"] = google.colab.output.getActiveOutputArea();\n",
              "//# sourceURL=js_6a31e56aee"
            ]
          },
          "metadata": {}
        },
        {
          "output_type": "display_data",
          "data": {
            "text/plain": [
              "<IPython.core.display.Javascript object>"
            ],
            "application/javascript": [
              "window[\"4b794134-41bd-11ed-b421-0242ac1c0002\"] = document.querySelector(\"#id4-0-0\");\n",
              "//# sourceURL=js_653d516968"
            ]
          },
          "metadata": {}
        },
        {
          "output_type": "display_data",
          "data": {
            "text/plain": [
              "<IPython.core.display.Javascript object>"
            ],
            "application/javascript": [
              "window[\"4b79bdc6-41bd-11ed-b421-0242ac1c0002\"] = google.colab.output.setActiveOutputArea(window[\"4b794134-41bd-11ed-b421-0242ac1c0002\"]);\n",
              "//# sourceURL=js_127b31ab90"
            ]
          },
          "metadata": {}
        },
        {
          "output_type": "stream",
          "name": "stdout",
          "text": [
            "observation: [0 2]\n",
            "reward: 0\n",
            "action: right\n",
            "action 2\n",
            "random_action False\n"
          ]
        },
        {
          "output_type": "display_data",
          "data": {
            "text/plain": [
              "<Figure size 432x288 with 1 Axes>"
            ],
            "image/png": "[encoded data removed]"
          },
          "metadata": {
            "needs_background": "light"
          }
        },
        {
          "output_type": "stream",
          "name": "stdout",
          "text": [
            "-----------------\n"
          ]
        },
        {
          "output_type": "display_data",
          "data": {
            "text/plain": [
              "<IPython.core.display.Javascript object>"
            ],
            "application/javascript": [
              "window[\"4b984d18-41bd-11ed-b421-0242ac1c0002\"] = google.colab.output.setActiveOutputArea(window[\"4b78eac2-41bd-11ed-b421-0242ac1c0002\"]);\n",
              "//# sourceURL=js_a3a31bb66d"
            ]
          },
          "metadata": {}
        },
        {
          "output_type": "display_data",
          "data": {
            "text/plain": [
              "<IPython.core.display.Javascript object>"
            ],
            "application/javascript": [
              "window[\"4c335100-41bd-11ed-b421-0242ac1c0002\"] = google.colab.output.getActiveOutputArea();\n",
              "//# sourceURL=js_7894226dfa"
            ]
          },
          "metadata": {}
        },
        {
          "output_type": "display_data",
          "data": {
            "text/plain": [
              "<IPython.core.display.Javascript object>"
            ],
            "application/javascript": [
              "window[\"4c33a6be-41bd-11ed-b421-0242ac1c0002\"] = document.querySelector(\"#id4-0-0\");\n",
              "//# sourceURL=js_251e391911"
            ]
          },
          "metadata": {}
        },
        {
          "output_type": "display_data",
          "data": {
            "text/plain": [
              "<IPython.core.display.Javascript object>"
            ],
            "application/javascript": [
              "window[\"4c3434e4-41bd-11ed-b421-0242ac1c0002\"] = google.colab.output.setActiveOutputArea(window[\"4c33a6be-41bd-11ed-b421-0242ac1c0002\"]);\n",
              "//# sourceURL=js_dc3802c2a8"
            ]
          },
          "metadata": {}
        },
        {
          "output_type": "stream",
          "name": "stdout",
          "text": [
            "observation: [0 3]\n",
            "reward: 0\n",
            "action: down\n",
            "action 1\n",
            "random_action True\n"
          ]
        },
        {
          "output_type": "display_data",
          "data": {
            "text/plain": [
              "<Figure size 432x288 with 1 Axes>"
            ],
            "image/png": "[encoded data removed]"
          },
          "metadata": {
            "needs_background": "light"
          }
        },
        {
          "output_type": "stream",
          "name": "stdout",
          "text": [
            "-----------------\n"
          ]
        },
        {
          "output_type": "display_data",
          "data": {
            "text/plain": [
              "<IPython.core.display.Javascript object>"
            ],
            "application/javascript": [
              "window[\"4c50535e-41bd-11ed-b421-0242ac1c0002\"] = google.colab.output.setActiveOutputArea(window[\"4c335100-41bd-11ed-b421-0242ac1c0002\"]);\n",
              "//# sourceURL=js_b029197e7f"
            ]
          },
          "metadata": {}
        },
        {
          "output_type": "display_data",
          "data": {
            "text/plain": [
              "<IPython.core.display.Javascript object>"
            ],
            "application/javascript": [
              "window[\"4ceb8838-41bd-11ed-b421-0242ac1c0002\"] = google.colab.output.getActiveOutputArea();\n",
              "//# sourceURL=js_6539f5a3b4"
            ]
          },
          "metadata": {}
        },
        {
          "output_type": "display_data",
          "data": {
            "text/plain": [
              "<IPython.core.display.Javascript object>"
            ],
            "application/javascript": [
              "window[\"4cebffac-41bd-11ed-b421-0242ac1c0002\"] = document.querySelector(\"#id4-0-0\");\n",
              "//# sourceURL=js_20e5738ff9"
            ]
          },
          "metadata": {}
        },
        {
          "output_type": "display_data",
          "data": {
            "text/plain": [
              "<IPython.core.display.Javascript object>"
            ],
            "application/javascript": [
              "window[\"4cec5600-41bd-11ed-b421-0242ac1c0002\"] = google.colab.output.setActiveOutputArea(window[\"4cebffac-41bd-11ed-b421-0242ac1c0002\"]);\n",
              "//# sourceURL=js_ebd19ee2b0"
            ]
          },
          "metadata": {}
        },
        {
          "output_type": "stream",
          "name": "stdout",
          "text": [
            "observation: [1 3]\n",
            "reward: 0\n",
            "action: down\n",
            "action 1\n",
            "random_action False\n"
          ]
        },
        {
          "output_type": "display_data",
          "data": {
            "text/plain": [
              "<Figure size 432x288 with 1 Axes>"
            ],
            "image/png": "[encoded data removed]"
          },
          "metadata": {
            "needs_background": "light"
          }
        },
        {
          "output_type": "stream",
          "name": "stdout",
          "text": [
            "-----------------\n"
          ]
        },
        {
          "output_type": "display_data",
          "data": {
            "text/plain": [
              "<IPython.core.display.Javascript object>"
            ],
            "application/javascript": [
              "window[\"4d0939dc-41bd-11ed-b421-0242ac1c0002\"] = google.colab.output.setActiveOutputArea(window[\"4ceb8838-41bd-11ed-b421-0242ac1c0002\"]);\n",
              "//# sourceURL=js_0941c22433"
            ]
          },
          "metadata": {}
        }
      ]
    },
    {
      "cell_type": "code",
      "source": [],
      "metadata": {
        "id": "AZOVRiuZ8k_2"
      },
      "execution_count": 6,
      "outputs": []
    }
  ]
}
